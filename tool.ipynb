{
 "cells": [
  {
   "cell_type": "code",
   "execution_count": 2,
   "metadata": {},
   "outputs": [],
   "source": [
    "from tfcaidm.tools import tensorboard_viewer, compare_experiments"
   ]
  },
  {
   "cell_type": "code",
   "execution_count": 15,
   "metadata": {},
   "outputs": [
    {
     "name": "stdout",
     "output_type": "stream",
     "text": [
      "2021-12-29_00-19-54_PST  2021-12-29_02-30-40_PST  2021-12-29_12-41-35_PST\n",
      "2021-12-29_00-33-13_PST  2021-12-29_12-32-16_PST  2021-12-29_16-03-28_PST\n"
     ]
    }
   ],
   "source": [
    "!ls ./exp/adni/logs"
   ]
  },
  {
   "cell_type": "code",
   "execution_count": 16,
   "metadata": {},
   "outputs": [],
   "source": [
    "class Path:\n",
    "    base = \"./exp/adni\"\n",
    "    run = base + \"/logs/2021-12-29_16-03-28_PST\""
   ]
  },
  {
   "cell_type": "code",
   "execution_count": null,
   "metadata": {},
   "outputs": [
    {
     "name": "stdout",
     "output_type": "stream",
     "text": [
      "\n",
      "- command: tensorboard --logdir_spec=8:/home/brandon/projects/dementia/exp/adni/logs/2021-12-29_16-03-28_PST/8/logdirs,2:/home/brandon/projects/dementia/exp/adni/logs/2021-12-29_16-03-28_PST/2/logdirs,5:/home/brandon/projects/dementia/exp/adni/logs/2021-12-29_16-03-28_PST/5/logdirs,1:/home/brandon/projects/dementia/exp/adni/logs/2021-12-29_16-03-28_PST/1/logdirs,6:/home/brandon/projects/dementia/exp/adni/logs/2021-12-29_16-03-28_PST/6/logdirs,4:/home/brandon/projects/dementia/exp/adni/logs/2021-12-29_16-03-28_PST/4/logdirs,3:/home/brandon/projects/dementia/exp/adni/logs/2021-12-29_16-03-28_PST/3/logdirs,9:/home/brandon/projects/dementia/exp/adni/logs/2021-12-29_16-03-28_PST/9/logdirs,7:/home/brandon/projects/dementia/exp/adni/logs/2021-12-29_16-03-28_PST/7/logdirs,0:/home/brandon/projects/dementia/exp/adni/logs/2021-12-29_16-03-28_PST/0/logdirs --bind_all --port 9000\n",
      "\n"
     ]
    }
   ],
   "source": [
    "tensorboard_viewer.view(Path.run, port=9000)"
   ]
  },
  {
   "cell_type": "code",
   "execution_count": 4,
   "metadata": {},
   "outputs": [],
   "source": [
    "results = compare_experiments.compare(Path.base)"
   ]
  },
  {
   "cell_type": "code",
   "execution_count": 22,
   "metadata": {},
   "outputs": [
    {
     "data": {
      "text/html": [
       "<div>\n",
       "<style scoped>\n",
       "    .dataframe tbody tr th:only-of-type {\n",
       "        vertical-align: middle;\n",
       "    }\n",
       "\n",
       "    .dataframe tbody tr th {\n",
       "        vertical-align: top;\n",
       "    }\n",
       "\n",
       "    .dataframe thead th {\n",
       "        text-align: right;\n",
       "    }\n",
       "</style>\n",
       "<table border=\"1\" class=\"dataframe\">\n",
       "  <thead>\n",
       "    <tr style=\"text-align: right;\">\n",
       "      <th></th>\n",
       "      <th>train/trainer/log_dir</th>\n",
       "      <th>model/loss_weights/ctr</th>\n",
       "      <th>model/loss_weights/euc</th>\n",
       "      <th>model/loss_weights/ned</th>\n",
       "      <th>model/loss_weights/cls_anc</th>\n",
       "      <th>model/loss_weights/cls_unk</th>\n",
       "      <th>valid_eval/fold/avg/last/cls_anc_binary_accuracy</th>\n",
       "      <th>valid_eval/fold/avg/last/cls_unk_binary_accuracy</th>\n",
       "    </tr>\n",
       "  </thead>\n",
       "  <tbody>\n",
       "    <tr>\n",
       "      <th>0</th>\n",
       "      <td>/home/brandon/projects/dementia/exp/adni/logs/...</td>\n",
       "      <td>0</td>\n",
       "      <td>0</td>\n",
       "      <td>1</td>\n",
       "      <td>0</td>\n",
       "      <td>0</td>\n",
       "      <td>0.738416</td>\n",
       "      <td>0.738416</td>\n",
       "    </tr>\n",
       "    <tr>\n",
       "      <th>1</th>\n",
       "      <td>/home/brandon/projects/dementia/exp/adni/logs/...</td>\n",
       "      <td>1</td>\n",
       "      <td>1</td>\n",
       "      <td>1</td>\n",
       "      <td>1</td>\n",
       "      <td>1</td>\n",
       "      <td>0.266069</td>\n",
       "      <td>0.266069</td>\n",
       "    </tr>\n",
       "    <tr>\n",
       "      <th>2</th>\n",
       "      <td>/home/brandon/projects/dementia/exp/adni/logs/...</td>\n",
       "      <td>0</td>\n",
       "      <td>0</td>\n",
       "      <td>1</td>\n",
       "      <td>1</td>\n",
       "      <td>1</td>\n",
       "      <td>0.387145</td>\n",
       "      <td>0.387145</td>\n",
       "    </tr>\n",
       "    <tr>\n",
       "      <th>3</th>\n",
       "      <td>/home/brandon/projects/dementia/exp/adni/logs/...</td>\n",
       "      <td>0</td>\n",
       "      <td>1</td>\n",
       "      <td>0</td>\n",
       "      <td>0</td>\n",
       "      <td>0</td>\n",
       "      <td>0.738416</td>\n",
       "      <td>0.738416</td>\n",
       "    </tr>\n",
       "    <tr>\n",
       "      <th>4</th>\n",
       "      <td>/home/brandon/projects/dementia/exp/adni/logs/...</td>\n",
       "      <td>1</td>\n",
       "      <td>0</td>\n",
       "      <td>0</td>\n",
       "      <td>0</td>\n",
       "      <td>0</td>\n",
       "      <td>0.738416</td>\n",
       "      <td>0.738416</td>\n",
       "    </tr>\n",
       "    <tr>\n",
       "      <th>5</th>\n",
       "      <td>/home/brandon/projects/dementia/exp/adni/logs/...</td>\n",
       "      <td>1</td>\n",
       "      <td>1</td>\n",
       "      <td>1</td>\n",
       "      <td>0</td>\n",
       "      <td>0</td>\n",
       "      <td>0.738416</td>\n",
       "      <td>0.738416</td>\n",
       "    </tr>\n",
       "    <tr>\n",
       "      <th>6</th>\n",
       "      <td>/home/brandon/projects/dementia/exp/adni/logs/...</td>\n",
       "      <td>1</td>\n",
       "      <td>0</td>\n",
       "      <td>0</td>\n",
       "      <td>1</td>\n",
       "      <td>1</td>\n",
       "      <td>0.261584</td>\n",
       "      <td>0.261584</td>\n",
       "    </tr>\n",
       "    <tr>\n",
       "      <th>7</th>\n",
       "      <td>/home/brandon/projects/dementia/exp/adni/logs/...</td>\n",
       "      <td>0</td>\n",
       "      <td>1</td>\n",
       "      <td>0</td>\n",
       "      <td>1</td>\n",
       "      <td>1</td>\n",
       "      <td>0.582960</td>\n",
       "      <td>0.582960</td>\n",
       "    </tr>\n",
       "  </tbody>\n",
       "</table>\n",
       "</div>"
      ],
      "text/plain": [
       "                               train/trainer/log_dir  model/loss_weights/ctr  \\\n",
       "0  /home/brandon/projects/dementia/exp/adni/logs/...                       0   \n",
       "1  /home/brandon/projects/dementia/exp/adni/logs/...                       1   \n",
       "2  /home/brandon/projects/dementia/exp/adni/logs/...                       0   \n",
       "3  /home/brandon/projects/dementia/exp/adni/logs/...                       0   \n",
       "4  /home/brandon/projects/dementia/exp/adni/logs/...                       1   \n",
       "5  /home/brandon/projects/dementia/exp/adni/logs/...                       1   \n",
       "6  /home/brandon/projects/dementia/exp/adni/logs/...                       1   \n",
       "7  /home/brandon/projects/dementia/exp/adni/logs/...                       0   \n",
       "\n",
       "   model/loss_weights/euc  model/loss_weights/ned  model/loss_weights/cls_anc  \\\n",
       "0                       0                       1                           0   \n",
       "1                       1                       1                           1   \n",
       "2                       0                       1                           1   \n",
       "3                       1                       0                           0   \n",
       "4                       0                       0                           0   \n",
       "5                       1                       1                           0   \n",
       "6                       0                       0                           1   \n",
       "7                       1                       0                           1   \n",
       "\n",
       "   model/loss_weights/cls_unk  \\\n",
       "0                           0   \n",
       "1                           1   \n",
       "2                           1   \n",
       "3                           0   \n",
       "4                           0   \n",
       "5                           0   \n",
       "6                           1   \n",
       "7                           1   \n",
       "\n",
       "   valid_eval/fold/avg/last/cls_anc_binary_accuracy  \\\n",
       "0                                          0.738416   \n",
       "1                                          0.266069   \n",
       "2                                          0.387145   \n",
       "3                                          0.738416   \n",
       "4                                          0.738416   \n",
       "5                                          0.738416   \n",
       "6                                          0.261584   \n",
       "7                                          0.582960   \n",
       "\n",
       "   valid_eval/fold/avg/last/cls_unk_binary_accuracy  \n",
       "0                                          0.738416  \n",
       "1                                          0.266069  \n",
       "2                                          0.387145  \n",
       "3                                          0.738416  \n",
       "4                                          0.738416  \n",
       "5                                          0.738416  \n",
       "6                                          0.261584  \n",
       "7                                          0.582960  "
      ]
     },
     "execution_count": 22,
     "metadata": {},
     "output_type": "execute_result"
    }
   ],
   "source": [
    "log = [\"train/trainer/log_dir\"]\n",
    "acc = [\"valid_eval/fold/avg/last/cls_anc_binary_accuracy\", \"valid_eval/fold/avg/last/cls_unk_binary_accuracy\"]\n",
    "loss_weights = [\n",
    "    \"model/loss_weights/ctr\",\n",
    "    \"model/loss_weights/euc\",\n",
    "    \"model/loss_weights/ned\",\n",
    "    \"model/loss_weights/cls_anc\",\n",
    "    \"model/loss_weights/cls_unk\",\n",
    "]\n",
    "results[[*log, *loss_weights, *acc]]"
   ]
  }
 ],
 "metadata": {
  "kernelspec": {
   "display_name": "Python 3",
   "language": "python",
   "name": "python3"
  },
  "language_info": {
   "codemirror_mode": {
    "name": "ipython",
    "version": 3
   },
   "file_extension": ".py",
   "mimetype": "text/x-python",
   "name": "python",
   "nbconvert_exporter": "python",
   "pygments_lexer": "ipython3",
   "version": "3.8.5"
  }
 },
 "nbformat": 4,
 "nbformat_minor": 4
}
