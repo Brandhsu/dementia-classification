{
 "cells": [
  {
   "cell_type": "code",
   "execution_count": 1,
   "metadata": {},
   "outputs": [],
   "source": [
    "import numpy as np\n",
    "from sklearn import decomposition, manifold\n",
    "from sklearn.metrics import classification_report\n",
    "\n",
    "import tensorflow as tf\n",
    "from tensorflow.keras import Input, models, Model as TFModel\n",
    "\n",
    "from jarvis.utils.general import gpus, overload\n",
    "from tfcaidm import Dataset, JClient, Model\n",
    "from tfcaidm.models import registry, head"
   ]
  },
  {
   "cell_type": "markdown",
   "metadata": {},
   "source": [
    "**Autoselect GPU (use only on caidm cluster)**"
   ]
  },
  {
   "cell_type": "code",
   "execution_count": 2,
   "metadata": {},
   "outputs": [
    {
     "name": "stdout",
     "output_type": "stream",
     "text": [
      "[ 2021-12-29 19:26:51 ] CUDA_VISIBLE_DEVICES automatically set to: 1           \n"
     ]
    }
   ],
   "source": [
    "gpus.autoselect()"
   ]
  },
  {
   "cell_type": "code",
   "execution_count": 3,
   "metadata": {},
   "outputs": [
    {
     "name": "stdout",
     "output_type": "stream",
     "text": [
      "2021-12-29_00-19-54_PST  2021-12-29_12-32-16_PST  2021-12-29_18-47-50_PST\n",
      "2021-12-29_00-33-13_PST  2021-12-29_12-41-35_PST\n",
      "2021-12-29_02-30-40_PST  2021-12-29_16-03-28_PST\n"
     ]
    }
   ],
   "source": [
    "!ls ./exp/adni/logs"
   ]
  },
  {
   "cell_type": "markdown",
   "metadata": {},
   "source": [
    "## Model"
   ]
  },
  {
   "cell_type": "code",
   "execution_count": 4,
   "metadata": {},
   "outputs": [],
   "source": [
    "import custom_losses as custom"
   ]
  },
  {
   "cell_type": "code",
   "execution_count": 5,
   "metadata": {},
   "outputs": [],
   "source": [
    "class Path:\n",
    "    base = \"./exp/adni\"\n",
    "    run = base + \"/logs/2021-12-29_16-03-28_PST\"\n",
    "    num = run + \"/5\"\n",
    "    model = num + \"/ae_0\"\n",
    "    pipeline = num + \"/pipeline.yml\""
   ]
  },
  {
   "cell_type": "code",
   "execution_count": 6,
   "metadata": {},
   "outputs": [],
   "source": [
    "model = models.load_model(Path.model, custom_objects={\"ctr_loss\": custom.ContrastiveLoss()})"
   ]
  },
  {
   "cell_type": "markdown",
   "metadata": {},
   "source": [
    "## Visualize"
   ]
  },
  {
   "cell_type": "code",
   "execution_count": 7,
   "metadata": {},
   "outputs": [],
   "source": [
    "from plotly.subplots import make_subplots\n",
    "import plotly.graph_objects as go\n",
    "import plotly.io as pio\n",
    "pio.renderers.default = \"iframe\""
   ]
  },
  {
   "cell_type": "code",
   "execution_count": 8,
   "metadata": {},
   "outputs": [],
   "source": [
    "def get_model(model, layer_names=[]):\n",
    "    return TFModel(inputs=model.inputs, outputs={name: model.get_layer(name).output for name in layer_names})"
   ]
  },
  {
   "cell_type": "code",
   "execution_count": 9,
   "metadata": {},
   "outputs": [],
   "source": [
    "def plot_embeddings(true, pred, emb):\n",
    "    fig = make_subplots(\n",
    "        rows=1, cols=2, subplot_titles=(\"Model Prediction\", \"Ground-Truth\"),\n",
    "        specs=[[{\"type\": \"scene\"}, {\"type\": \"scene\"}]],\n",
    "    )\n",
    "    \n",
    "    colorsIdx = {0: 'purple', 1: 'yellow'}\n",
    "\n",
    "    fig.add_trace(\n",
    "        go.Scatter3d(\n",
    "            x=emb[:, 0],\n",
    "            y=emb[:, 1],\n",
    "            z=emb[:, 2],\n",
    "            mode=\"markers\",\n",
    "            marker=dict(color=[colorsIdx[i] for i in pred]),\n",
    "        ),\n",
    "        row=1,\n",
    "        col=1,\n",
    "    )\n",
    "\n",
    "    fig.add_trace(\n",
    "        go.Scatter3d(\n",
    "            x=emb[:, 0],\n",
    "            y=emb[:, 1],\n",
    "            z=emb[:, 2],\n",
    "            mode=\"markers\",\n",
    "            marker=dict(color=[colorsIdx[i] for i in true]),\n",
    "        ),\n",
    "        row=1,\n",
    "        col=2,\n",
    "    )\n",
    "\n",
    "    fig.update_layout(title_text=\"Lower-Dimensional Embedding Representations\")\n",
    "    fig.show()"
   ]
  },
  {
   "cell_type": "markdown",
   "metadata": {},
   "source": [
    "### Embedding model"
   ]
  },
  {
   "cell_type": "code",
   "execution_count": 10,
   "metadata": {},
   "outputs": [],
   "source": [
    "infer_model = get_model(model.layers[2], layer_names=[\"ctr\", \"cls\"])"
   ]
  },
  {
   "cell_type": "markdown",
   "metadata": {},
   "source": [
    "### Get embeddings"
   ]
  },
  {
   "cell_type": "code",
   "execution_count": 11,
   "metadata": {},
   "outputs": [],
   "source": [
    "def get_embeddings(model):\n",
    "    client = Dataset.from_yaml(Path.pipeline, fold=0)\n",
    "    gen_train, gen_valid = client.create_generators(test=True)\n",
    "    \n",
    "    emb = []\n",
    "    true = []\n",
    "    pred = []\n",
    "\n",
    "    for xs, ys in gen_valid:\n",
    "        yh = model(xs[\"dat\"])\n",
    "        emb.append(yh[\"ctr\"])\n",
    "        pred.append(yh[\"cls\"])\n",
    "        true.append(xs[\"lbl\"])\n",
    "\n",
    "    emb = np.array(emb).squeeze()\n",
    "    true = np.array(true).squeeze()\n",
    "    pred = np.array(pred).squeeze()\n",
    "    \n",
    "    return emb, true, pred"
   ]
  },
  {
   "cell_type": "markdown",
   "metadata": {},
   "source": [
    "**Lower-dimension visualizations**"
   ]
  },
  {
   "cell_type": "code",
   "execution_count": 12,
   "metadata": {},
   "outputs": [
    {
     "name": "stdout",
     "output_type": "stream",
     "text": [
      "[ 2021-12-29 19:28:04 ] [====================] 100.000% : Iterating | 000669    "
     ]
    }
   ],
   "source": [
    "emb, true, pred = get_embeddings(infer_model)"
   ]
  },
  {
   "cell_type": "code",
   "execution_count": 13,
   "metadata": {},
   "outputs": [],
   "source": [
    "emb3d = decomposition.PCA(n_components=3).fit_transform(emb)"
   ]
  },
  {
   "cell_type": "code",
   "execution_count": 17,
   "metadata": {},
   "outputs": [
    {
     "data": {
      "text/html": [
       "<iframe\n",
       "    scrolling=\"no\"\n",
       "    width=\"100%\"\n",
       "    height=\"545px\"\n",
       "    src=\"iframe_figures/figure_17.html\"\n",
       "    frameborder=\"0\"\n",
       "    allowfullscreen\n",
       "></iframe>\n"
      ]
     },
     "metadata": {},
     "output_type": "display_data"
    }
   ],
   "source": [
    "plot_embeddings(true.squeeze(), pred.squeeze() > 0.5, emb3d)"
   ]
  },
  {
   "cell_type": "code",
   "execution_count": 15,
   "metadata": {},
   "outputs": [],
   "source": [
    "# best results with contrastive and 32 embed size, 64, and 96 are also competitive.\n",
    "# best results with 32 embed size, depth 6, and width scaling of 1.5"
   ]
  },
  {
   "cell_type": "markdown",
   "metadata": {},
   "source": [
    "```python\n",
    "\n",
    "# --- Model trained with cross entropy and contrastive loss\n",
    "\n",
    "class Path:\n",
    "    base = \"./exp/adni\"\n",
    "    run = base + \"/logs/2021-12-29_02-30-40_PST\"\n",
    "    num = run + \"/8\"\n",
    "    model = num + \"/ae_0\"\n",
    "    pipeline = num + \"/pipeline.yml\"\n",
    "  \n",
    "print(classification_report(true, pred > 0.5))\n",
    "```\n",
    "\n",
    "```shell\n",
    "              precision    recall  f1-score   support\n",
    "\n",
    "           0       0.93      0.88      0.91       494\n",
    "           1       0.71      0.82      0.76       175\n",
    "\n",
    "    accuracy                           0.87       669\n",
    "   macro avg       0.82      0.85      0.84       669\n",
    "weighted avg       0.88      0.87      0.87       669\n",
    "```"
   ]
  },
  {
   "cell_type": "markdown",
   "metadata": {},
   "source": [
    "```python\n",
    "\n",
    "# --- Model trained with only cross entropy\n",
    "\n",
    "class Path:\n",
    "    base = \"./exp/adni\"\n",
    "    run = base + \"/logs/2021-12-29_02-30-40_PST\"\n",
    "    num = run + \"/9\"\n",
    "    model = num + \"/ae_0\"\n",
    "    pipeline = num + \"/pipeline.yml\"\n",
    "  \n",
    "print(classification_report(true, pred > 0.5))\n",
    "```\n",
    "\n",
    "```shell\n",
    "\n",
    "              precision    recall  f1-score   support\n",
    "\n",
    "           0       0.94      0.85      0.89       494\n",
    "           1       0.67      0.85      0.75       175\n",
    "\n",
    "    accuracy                           0.85       669\n",
    "   macro avg       0.80      0.85      0.82       669\n",
    "weighted avg       0.87      0.85      0.85       669\n",
    "```"
   ]
  },
  {
   "cell_type": "markdown",
   "metadata": {},
   "source": [
    "---"
   ]
  },
  {
   "cell_type": "markdown",
   "metadata": {},
   "source": [
    "```python\n",
    "\n",
    "# --- Model trained with cross entropy and focal contrastive loss (gamma = 3)\n",
    "\n",
    "class Path:\n",
    "    base = \"./exp/adni\"\n",
    "    run = base + \"/logs/2021-12-29_12-32-16_PST\"\n",
    "    num = run + \"/10\"\n",
    "    model = num + \"/ae_0\"\n",
    "    pipeline = num + \"/pipeline.yml\"\n",
    "\n",
    "print(classification_report(true, pred > 0.5))\n",
    "```\n",
    "\n",
    "```shell\n",
    "              precision    recall  f1-score   support\n",
    "\n",
    "           0       0.94      0.88      0.91       494\n",
    "           1       0.71      0.83      0.77       175\n",
    "\n",
    "    accuracy                           0.87       669\n",
    "   macro avg       0.82      0.85      0.84       669\n",
    "weighted avg       0.88      0.87      0.87       669\n",
    "```"
   ]
  },
  {
   "cell_type": "markdown",
   "metadata": {},
   "source": [
    "```python\n",
    "@NOTE: model eblock says aspp, but only conv was used.\n",
    "\n",
    "# --- Model trained with cross entropy and focal contrastive loss (gamma = 4)\n",
    "\n",
    "class Path:\n",
    "    base = \"./exp/adni\"\n",
    "    run = base + \"/logs/2021-12-29_12-32-16_PST\"\n",
    "    num = run + \"/11\"\n",
    "    model = num + \"/ae_0\"\n",
    "    pipeline = num + \"/pipeline.yml\"\n",
    "\n",
    "print(classification_report(true, pred > 0.5))\n",
    "```\n",
    "\n",
    "```shell\n",
    "              precision    recall  f1-score   support\n",
    "\n",
    "           0       0.93      0.87      0.90       494\n",
    "           1       0.69      0.81      0.75       175\n",
    "\n",
    "    accuracy                           0.86       669\n",
    "   macro avg       0.81      0.84      0.82       669\n",
    "weighted avg       0.87      0.86      0.86       669\n",
    "```"
   ]
  },
  {
   "cell_type": "markdown",
   "metadata": {},
   "source": [
    "```python\n",
    "@NOTE: model eblock says aspp, but only conv was used.\n",
    "    \n",
    "# --- Model trained with cross entropy and focal log contrastive loss (gamma = 2)\n",
    "\n",
    "class Path:\n",
    "    base = \"./exp/adni\"\n",
    "    run = base + \"/logs/2021-12-29_12-32-16_PST\"\n",
    "    num = run + \"/13\"\n",
    "    model = num + \"/ae_0\"\n",
    "    pipeline = num + \"/pipeline.yml\"\n",
    "\n",
    "print(classification_report(true, pred > 0.5))\n",
    "```\n",
    "\n",
    "```shell\n",
    "              precision    recall  f1-score   support\n",
    "\n",
    "           0       0.92      0.91      0.92       494\n",
    "           1       0.77      0.78      0.77       175\n",
    "\n",
    "    accuracy                           0.88       669\n",
    "   macro avg       0.84      0.85      0.85       669\n",
    "weighted avg       0.88      0.88      0.88       669\n",
    "```"
   ]
  },
  {
   "cell_type": "markdown",
   "metadata": {},
   "source": [
    "---"
   ]
  },
  {
   "cell_type": "markdown",
   "metadata": {},
   "source": [
    "```python\n",
    "\n",
    "# --- Model trained with cross entropy and focal log contrastive loss (gamma = 2) w/ a batch size of 2!\n",
    "\n",
    "class Path:\n",
    "    base = \"./exp/adni\"\n",
    "    run = base + \"/logs/2021-12-29_16-03-28_PST\"\n",
    "    num = run + \"/0\"\n",
    "    model = num + \"/ae_0\"\n",
    "    pipeline = num + \"/pipeline.yml\"\n",
    "\n",
    "print(classification_report(true, pred > 0.5))\n",
    "```\n",
    "\n",
    "```shell\n",
    "              precision    recall  f1-score   support\n",
    "\n",
    "           0       0.92      0.91      0.92       494\n",
    "           1       0.77      0.79      0.78       175\n",
    "\n",
    "    accuracy                           0.88       669\n",
    "   macro avg       0.85      0.85      0.85       669\n",
    "weighted avg       0.88      0.88      0.88       669\n",
    "```"
   ]
  },
  {
   "cell_type": "markdown",
   "metadata": {},
   "source": [
    "```python\n",
    "\n",
    "# --- Model trained with cross entropy loss w/ a batch size of 2!\n",
    "\n",
    "class Path:\n",
    "    base = \"./exp/adni\"\n",
    "    run = base + \"/logs/2021-12-29_16-03-28_PST\"\n",
    "    num = run + \"/5\"\n",
    "    model = num + \"/ae_0\"\n",
    "    pipeline = num + \"/pipeline.yml\"\n",
    "\n",
    "print(classification_report(true, pred > 0.5))\n",
    "```\n",
    "\n",
    "```shell\n",
    "              precision    recall  f1-score   support\n",
    "\n",
    "           0       0.90      0.92      0.91       494\n",
    "           1       0.76      0.73      0.74       175\n",
    "\n",
    "    accuracy                           0.87       669\n",
    "   macro avg       0.83      0.82      0.83       669\n",
    "weighted avg       0.87      0.87      0.87       669\n",
    "```"
   ]
  },
  {
   "cell_type": "code",
   "execution_count": 16,
   "metadata": {},
   "outputs": [
    {
     "name": "stdout",
     "output_type": "stream",
     "text": [
      "              precision    recall  f1-score   support\n",
      "\n",
      "           0       0.90      0.92      0.91       494\n",
      "           1       0.76      0.73      0.74       175\n",
      "\n",
      "    accuracy                           0.87       669\n",
      "   macro avg       0.83      0.82      0.83       669\n",
      "weighted avg       0.87      0.87      0.87       669\n",
      "\n"
     ]
    }
   ],
   "source": [
    "print(classification_report(true, pred > 0.5))"
   ]
  }
 ],
 "metadata": {
  "kernelspec": {
   "display_name": "Python 3",
   "language": "python",
   "name": "python3"
  },
  "language_info": {
   "codemirror_mode": {
    "name": "ipython",
    "version": 3
   },
   "file_extension": ".py",
   "mimetype": "text/x-python",
   "name": "python",
   "nbconvert_exporter": "python",
   "pygments_lexer": "ipython3",
   "version": "3.8.5"
  }
 },
 "nbformat": 4,
 "nbformat_minor": 4
}
